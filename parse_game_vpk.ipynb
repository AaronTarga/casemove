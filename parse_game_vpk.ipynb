{
 "cells": [
  {
   "cell_type": "code",
   "execution_count": 7,
   "metadata": {},
   "outputs": [
    {
     "name": "stdout",
     "output_type": "stream",
     "text": [
      "Requirement already satisfied: vpk in c:\\users\\aaron\\appdata\\local\\programs\\python\\python310\\lib\\site-packages (1.4.0)\n",
      "Note: you may need to restart the kernel to use updated packages.\n"
     ]
    },
    {
     "name": "stderr",
     "output_type": "stream",
     "text": [
      "\n",
      "[notice] A new release of pip is available: 23.2.1 -> 24.3.1\n",
      "[notice] To update, run: python.exe -m pip install --upgrade pip\n"
     ]
    },
    {
     "name": "stdout",
     "output_type": "stream",
     "text": [
      "Collecting vdf\n",
      "  Obtaining dependency information for vdf from https://files.pythonhosted.org/packages/96/60/6456b687cf55cf60020dcd01f9bc51561c3cc84f05fd8e0feb71ce60f894/vdf-3.4-py2.py3-none-any.whl.metadata\n",
      "  Downloading vdf-3.4-py2.py3-none-any.whl.metadata (6.0 kB)\n",
      "Downloading vdf-3.4-py2.py3-none-any.whl (10 kB)\n",
      "Installing collected packages: vdf\n",
      "Successfully installed vdf-3.4\n",
      "Note: you may need to restart the kernel to use updated packages.\n"
     ]
    },
    {
     "name": "stderr",
     "output_type": "stream",
     "text": [
      "\n",
      "[notice] A new release of pip is available: 23.2.1 -> 24.3.1\n",
      "[notice] To update, run: python.exe -m pip install --upgrade pip\n"
     ]
    }
   ],
   "source": [
    "%pip install vpk\n",
    "%pip install vdf"
   ]
  },
  {
   "cell_type": "code",
   "execution_count": 4,
   "metadata": {},
   "outputs": [],
   "source": [
    "import vpk\n",
    "import vdf\n",
    "import json\n",
    "from collections import OrderedDict\n",
    "\n",
    "\n",
    "pak1 = vpk.open(\"C:\\Program Files (x86)\\Steam\\steamapps\\common\\Counter-Strike Global Offensive\\game\\csgo\\pak01_dir.vpk\")\n",
    "\n",
    "'''\n",
    "scripts/items/items_game.txt\n",
    "resource/csgo_english.txt\n",
    "'''\n",
    "\n",
    "pakfile = pak1.get_file(\"resource/csgo_english.txt\")\n",
    "pakfile = pak1[\"resource/csgo_english.txt\"]\n",
    "vpk_text = pakfile.read().decode('utf-8')\n",
    "\n",
    "d = vdf.loads(vpk_text)\n",
    "\n",
    "\n",
    "\n",
    "'''\n",
    "d = d['items_game']\n",
    "filtered_dict = { key: d[key]  for key in d.keys() if key in ['items','paint_kits','prefabs','sticker_kits','graffiti_tints']}\n",
    "\n",
    "music_kits_keys = list(filter(lambda item_key: 'image_inventory' in filtered_dict['items'][item_key] and  'econ/music_kits' in filtered_dict['items'][item_key]['image_inventory'] , filtered_dict['items'].keys()))\n",
    "\n",
    "music_kit_entries =  [value for value in filtered_dict['items'].keys() if value in music_kits_keys ]\n",
    "\n",
    "music_kits_dict = {(counter+1): filtered_dict['items'][key] for counter,key in enumerate(music_kit_entries) }\n",
    "\n",
    "final_dict = OrderedDict([\n",
    "('items', filtered_dict['items']),\n",
    "('paint_kits', filtered_dict['paint_kits']),\n",
    "('prefabs',  filtered_dict['prefabs']),\n",
    "('sticker_kits', filtered_dict['sticker_kits']),\n",
    "('graffiti_tints',  filtered_dict['graffiti_tints']),\n",
    "('casket_icons', {}),\n",
    "('music_kits',music_kits_dict)\n",
    "])\n",
    "'''\n",
    "\n",
    "json_text = json.dumps(final_dict,indent=2)\n",
    "\n",
    "with(open('extracted.json','w') as extracted_file):\n",
    "    extracted_file.write(json_text)"
   ]
  }
 ],
 "metadata": {
  "kernelspec": {
   "display_name": "Python 3",
   "language": "python",
   "name": "python3"
  },
  "language_info": {
   "codemirror_mode": {
    "name": "ipython",
    "version": 3
   },
   "file_extension": ".py",
   "mimetype": "text/x-python",
   "name": "python",
   "nbconvert_exporter": "python",
   "pygments_lexer": "ipython3",
   "version": "3.10.1"
  }
 },
 "nbformat": 4,
 "nbformat_minor": 2
}
